{
 "cells": [
  {
   "cell_type": "code",
   "execution_count": 1,
   "id": "c74b5791",
   "metadata": {},
   "outputs": [],
   "source": [
    "import numpy as np, pandas as pd\n",
    "\n",
    "# DV tools\n",
    "import seaborn as sns\n",
    "import matplotlib.pyplot as plt\n",
    "\n",
    "# Regression libraries\n",
    "import statsmodels.api as sm\n",
    "from sklearn.linear_model import LinearRegression\n",
    "from sklearn.preprocessing import StandardScaler, MinMaxScaler\n",
    "\n",
    "# Warnings and ignoring warnings\n",
    "import warnings\n",
    "warnings.filterwarnings('ignore')"
   ]
  },
  {
   "cell_type": "code",
   "execution_count": 2,
   "id": "ad304a80",
   "metadata": {},
   "outputs": [
    {
     "data": {
      "text/html": [
       "<div>\n",
       "<style scoped>\n",
       "    .dataframe tbody tr th:only-of-type {\n",
       "        vertical-align: middle;\n",
       "    }\n",
       "\n",
       "    .dataframe tbody tr th {\n",
       "        vertical-align: top;\n",
       "    }\n",
       "\n",
       "    .dataframe thead th {\n",
       "        text-align: right;\n",
       "    }\n",
       "</style>\n",
       "<table border=\"1\" class=\"dataframe\">\n",
       "  <thead>\n",
       "    <tr style=\"text-align: right;\">\n",
       "      <th></th>\n",
       "      <th>Electric Utility</th>\n",
       "      <th>Stock Price</th>\n",
       "      <th>ROE</th>\n",
       "      <th>Dividend</th>\n",
       "    </tr>\n",
       "  </thead>\n",
       "  <tbody>\n",
       "    <tr>\n",
       "      <th>0</th>\n",
       "      <td>1</td>\n",
       "      <td>$23</td>\n",
       "      <td>13.7</td>\n",
       "      <td>2.36</td>\n",
       "    </tr>\n",
       "    <tr>\n",
       "      <th>1</th>\n",
       "      <td>2</td>\n",
       "      <td>$34</td>\n",
       "      <td>12.8</td>\n",
       "      <td>3.12</td>\n",
       "    </tr>\n",
       "    <tr>\n",
       "      <th>2</th>\n",
       "      <td>3</td>\n",
       "      <td>$20</td>\n",
       "      <td>6.9</td>\n",
       "      <td>2.48</td>\n",
       "    </tr>\n",
       "    <tr>\n",
       "      <th>3</th>\n",
       "      <td>4</td>\n",
       "      <td>$24</td>\n",
       "      <td>12.7</td>\n",
       "      <td>2.36</td>\n",
       "    </tr>\n",
       "    <tr>\n",
       "      <th>4</th>\n",
       "      <td>5</td>\n",
       "      <td>$20</td>\n",
       "      <td>15.3</td>\n",
       "      <td>1.92</td>\n",
       "    </tr>\n",
       "  </tbody>\n",
       "</table>\n",
       "</div>"
      ],
      "text/plain": [
       "   Electric Utility Stock Price   ROE  Dividend\n",
       "0                 1         $23  13.7      2.36\n",
       "1                 2         $34  12.8      3.12\n",
       "2                 3         $20   6.9      2.48\n",
       "3                 4         $24  12.7      2.36\n",
       "4                 5         $20  15.3      1.92"
      ]
     },
     "execution_count": 2,
     "metadata": {},
     "output_type": "execute_result"
    }
   ],
   "source": [
    "stock = pd.read_csv('MLR_Q10_StockPrice.csv')\n",
    "stock.head()"
   ]
  },
  {
   "cell_type": "code",
   "execution_count": 3,
   "id": "e2c8291c",
   "metadata": {},
   "outputs": [
    {
     "name": "stdout",
     "output_type": "stream",
     "text": [
      "<class 'pandas.core.frame.DataFrame'>\n",
      "RangeIndex: 16 entries, 0 to 15\n",
      "Data columns (total 4 columns):\n",
      " #   Column            Non-Null Count  Dtype  \n",
      "---  ------            --------------  -----  \n",
      " 0   Electric Utility  16 non-null     int64  \n",
      " 1   Stock Price       16 non-null     object \n",
      " 2   ROE               16 non-null     float64\n",
      " 3   Dividend          16 non-null     float64\n",
      "dtypes: float64(2), int64(1), object(1)\n",
      "memory usage: 640.0+ bytes\n"
     ]
    }
   ],
   "source": [
    "stock.info()"
   ]
  },
  {
   "cell_type": "code",
   "execution_count": 4,
   "id": "bfa55c24",
   "metadata": {},
   "outputs": [],
   "source": [
    "# Dropping 'Electric Utility' attribute as it has nothing to do with stock price.\n",
    "stock.drop(['Electric Utility'], inplace=True, axis=1)\n",
    "\n",
    "# Extracting Stock price as floating point number\n",
    "stock['Stock Price'] = stock['Stock Price'].str.replace('$','').astype(float)"
   ]
  },
  {
   "cell_type": "markdown",
   "id": "0648d2b9",
   "metadata": {},
   "source": [
    "### Data Visualization:"
   ]
  },
  {
   "cell_type": "code",
   "execution_count": 5,
   "id": "3dc92104",
   "metadata": {},
   "outputs": [
    {
     "data": {
      "image/png": "[encoded data removed]",
      "text/plain": [
       "<Figure size 540x540 with 12 Axes>"
      ]
     },
     "metadata": {
      "needs_background": "light"
     },
     "output_type": "display_data"
    }
   ],
   "source": [
    "sns.pairplot(data=stock)\n",
    "plt.show()"
   ]
  },
  {
   "cell_type": "code",
   "execution_count": 6,
   "id": "1fbbc496",
   "metadata": {},
   "outputs": [
    {
     "data": {
      "image/png": "[encoded data removed]",
      "text/plain": [
       "<Figure size 432x288 with 2 Axes>"
      ]
     },
     "metadata": {
      "needs_background": "light"
     },
     "output_type": "display_data"
    }
   ],
   "source": [
    "sns.heatmap(stock.corr(),annot=True, cmap=\"YlGnBu\")\n",
    "plt.show()"
   ]
  },
  {
   "cell_type": "code",
   "execution_count": 7,
   "id": "f5887065",
   "metadata": {},
   "outputs": [
    {
     "data": {
      "text/html": [
       "<div>\n",
       "<style scoped>\n",
       "    .dataframe tbody tr th:only-of-type {\n",
       "        vertical-align: middle;\n",
       "    }\n",
       "\n",
       "    .dataframe tbody tr th {\n",
       "        vertical-align: top;\n",
       "    }\n",
       "\n",
       "    .dataframe thead th {\n",
       "        text-align: right;\n",
       "    }\n",
       "</style>\n",
       "<table border=\"1\" class=\"dataframe\">\n",
       "  <thead>\n",
       "    <tr style=\"text-align: right;\">\n",
       "      <th></th>\n",
       "      <th>ROE</th>\n",
       "      <th>Dividend</th>\n",
       "    </tr>\n",
       "  </thead>\n",
       "  <tbody>\n",
       "    <tr>\n",
       "      <th>0</th>\n",
       "      <td>13.7</td>\n",
       "      <td>2.36</td>\n",
       "    </tr>\n",
       "    <tr>\n",
       "      <th>1</th>\n",
       "      <td>12.8</td>\n",
       "      <td>3.12</td>\n",
       "    </tr>\n",
       "    <tr>\n",
       "      <th>2</th>\n",
       "      <td>6.9</td>\n",
       "      <td>2.48</td>\n",
       "    </tr>\n",
       "    <tr>\n",
       "      <th>3</th>\n",
       "      <td>12.7</td>\n",
       "      <td>2.36</td>\n",
       "    </tr>\n",
       "    <tr>\n",
       "      <th>4</th>\n",
       "      <td>15.3</td>\n",
       "      <td>1.92</td>\n",
       "    </tr>\n",
       "  </tbody>\n",
       "</table>\n",
       "</div>"
      ],
      "text/plain": [
       "    ROE  Dividend\n",
       "0  13.7      2.36\n",
       "1  12.8      3.12\n",
       "2   6.9      2.48\n",
       "3  12.7      2.36\n",
       "4  15.3      1.92"
      ]
     },
     "execution_count": 7,
     "metadata": {},
     "output_type": "execute_result"
    }
   ],
   "source": [
    "X = stock.drop('Stock Price', axis=1)\n",
    "X.head()"
   ]
  },
  {
   "cell_type": "code",
   "execution_count": 8,
   "id": "b6bd673c",
   "metadata": {},
   "outputs": [
    {
     "data": {
      "text/plain": [
       "0    23.0\n",
       "1    34.0\n",
       "2    20.0\n",
       "3    24.0\n",
       "4    20.0\n",
       "Name: Stock Price, dtype: float64"
      ]
     },
     "execution_count": 8,
     "metadata": {},
     "output_type": "execute_result"
    }
   ],
   "source": [
    "y = stock['Stock Price']\n",
    "y.head()"
   ]
  },
  {
   "cell_type": "markdown",
   "id": "eb707779",
   "metadata": {},
   "source": [
    "From above graph we can see that Dividend and Stock price has a kind of linear relation"
   ]
  },
  {
   "cell_type": "markdown",
   "id": "673c1b73",
   "metadata": {},
   "source": [
    "### Building a model"
   ]
  },
  {
   "cell_type": "code",
   "execution_count": 9,
   "id": "2435cb7f",
   "metadata": {},
   "outputs": [],
   "source": [
    "X_sm = sm.add_constant(X)\n",
    "\n",
    "# Fit the resgression line using 'OLS'\n",
    "lr = sm.OLS(y, X_sm).fit()"
   ]
  },
  {
   "cell_type": "code",
   "execution_count": 10,
   "id": "45830eb1",
   "metadata": {},
   "outputs": [
    {
     "name": "stdout",
     "output_type": "stream",
     "text": [
      "                            OLS Regression Results                            \n",
      "==============================================================================\n",
      "Dep. Variable:            Stock Price   R-squared:                       0.928\n",
      "Model:                            OLS   Adj. R-squared:                  0.917\n",
      "Method:                 Least Squares   F-statistic:                     84.31\n",
      "Date:                Fri, 13 May 2022   Prob (F-statistic):           3.60e-08\n",
      "Time:                        23:14:12   Log-Likelihood:                -29.298\n",
      "No. Observations:                  16   AIC:                             64.60\n",
      "Df Residuals:                      13   BIC:                             66.91\n",
      "Df Model:                           2                                         \n",
      "Covariance Type:            nonrobust                                         \n",
      "==============================================================================\n",
      "                 coef    std err          t      P>|t|      [0.025      0.975]\n",
      "------------------------------------------------------------------------------\n",
      "const         -9.9537      3.405     -2.923      0.012     -17.311      -2.597\n",
      "ROE            0.4762      0.186      2.556      0.024       0.074       0.879\n",
      "Dividend      11.1943      0.877     12.761      0.000       9.299      13.089\n",
      "==============================================================================\n",
      "Omnibus:                        0.526   Durbin-Watson:                   2.595\n",
      "Prob(Omnibus):                  0.769   Jarque-Bera (JB):                0.571\n",
      "Skew:                           0.129   Prob(JB):                        0.752\n",
      "Kurtosis:                       2.111   Cond. No.                         118.\n",
      "==============================================================================\n",
      "\n",
      "Notes:\n",
      "[1] Standard Errors assume that the covariance matrix of the errors is correctly specified.\n"
     ]
    }
   ],
   "source": [
    "# Performing a summary operation lists out all the different parameters of the regression line fitted\n",
    "print(lr.summary())"
   ]
  },
  {
   "cell_type": "code",
   "execution_count": 11,
   "id": "48a70b66",
   "metadata": {},
   "outputs": [
    {
     "name": "stdout",
     "output_type": "stream",
     "text": [
      "const       -9.953671\n",
      "ROE          0.476232\n",
      "Dividend    11.194324\n",
      "dtype: float64\n"
     ]
    }
   ],
   "source": [
    "# Print the parameters, i.e. the intercept and the slope of the regression line fitted\n",
    "print(lr.params)"
   ]
  },
  {
   "cell_type": "markdown",
   "id": "ffaf267d",
   "metadata": {},
   "source": [
    "From the parameters we can derive the line as:\n",
    "\n",
    "**Stock Price = -9.953 + 0.476 * [ROE] + 11.194 * [Dividend]**"
   ]
  },
  {
   "cell_type": "markdown",
   "id": "98f2f456",
   "metadata": {},
   "source": [
    "R-Squared value of the model is **0.928**. This indicates that model built is significant."
   ]
  },
  {
   "cell_type": "code",
   "execution_count": null,
   "id": "ac5577bc",
   "metadata": {},
   "outputs": [],
   "source": []
  },
  {
   "cell_type": "code",
   "execution_count": null,
   "id": "49e618f0",
   "metadata": {},
   "outputs": [],
   "source": []
  },
  {
   "cell_type": "markdown",
   "id": "8555ec93",
   "metadata": {},
   "source": [
    "### Building Model with MinMaxScaler"
   ]
  },
  {
   "cell_type": "code",
   "execution_count": 12,
   "id": "f2df8226",
   "metadata": {},
   "outputs": [],
   "source": [
    "scaler = MinMaxScaler()"
   ]
  },
  {
   "cell_type": "code",
   "execution_count": 13,
   "id": "587f7bfc",
   "metadata": {},
   "outputs": [
    {
     "name": "stdout",
     "output_type": "stream",
     "text": [
      "(16, 2) (16, 1)\n"
     ]
    }
   ],
   "source": [
    "y_arr = np.asarray(y).reshape(-1,1)\n",
    "y_scaled = scaler.fit_transform(y_arr)\n",
    "X_scaled = scaler.fit_transform(X.to_numpy())\n",
    "print (X_scaled.shape, y_scaled.shape)  # Sanity check\n"
   ]
  },
  {
   "cell_type": "code",
   "execution_count": 14,
   "id": "5538c102",
   "metadata": {},
   "outputs": [
    {
     "name": "stdout",
     "output_type": "stream",
     "text": [
      "                            OLS Regression Results                            \n",
      "==============================================================================\n",
      "Dep. Variable:                      y   R-squared:                       0.928\n",
      "Model:                            OLS   Adj. R-squared:                  0.917\n",
      "Method:                 Least Squares   F-statistic:                     84.31\n",
      "Date:                Fri, 13 May 2022   Prob (F-statistic):           3.60e-08\n",
      "Time:                        23:14:12   Log-Likelihood:                 19.414\n",
      "No. Observations:                  16   AIC:                            -32.83\n",
      "Df Residuals:                      13   BIC:                            -30.51\n",
      "Df Model:                           2                                         \n",
      "Covariance Type:            nonrobust                                         \n",
      "==============================================================================\n",
      "                 coef    std err          t      P>|t|      [0.025      0.975]\n",
      "------------------------------------------------------------------------------\n",
      "const         -0.1263      0.076     -1.658      0.121      -0.291       0.038\n",
      "x1             0.2358      0.092      2.556      0.024       0.037       0.435\n",
      "x2             0.8529      0.067     12.761      0.000       0.709       0.997\n",
      "==============================================================================\n",
      "Omnibus:                        0.526   Durbin-Watson:                   2.595\n",
      "Prob(Omnibus):                  0.769   Jarque-Bera (JB):                0.571\n",
      "Skew:                           0.129   Prob(JB):                        0.752\n",
      "Kurtosis:                       2.111   Cond. No.                         7.82\n",
      "==============================================================================\n",
      "\n",
      "Notes:\n",
      "[1] Standard Errors assume that the covariance matrix of the errors is correctly specified.\n"
     ]
    }
   ],
   "source": [
    "# Fit the resgression line using 'OLS'\n",
    "X_scaled_sm = sm.add_constant(X_scaled)\n",
    "lr_scaled = sm.OLS(y_scaled, X_scaled_sm).fit()\n",
    "print(lr_scaled.summary())"
   ]
  },
  {
   "cell_type": "code",
   "execution_count": 15,
   "id": "c8262143",
   "metadata": {},
   "outputs": [
    {
     "name": "stdout",
     "output_type": "stream",
     "text": [
      "[-0.12629996  0.23584806  0.85290091]\n"
     ]
    }
   ],
   "source": [
    "print(lr_scaled.params)"
   ]
  },
  {
   "cell_type": "code",
   "execution_count": null,
   "id": "8dccaf18",
   "metadata": {},
   "outputs": [],
   "source": []
  }
 ],
 "metadata": {
  "gist": {
   "data": {
    "description": "Untitled.ipynb",
    "public": true
   },
   "id": ""
  },
  "kernelspec": {
   "display_name": "Python 3",
   "language": "python",
   "name": "python3"
  },
  "language_info": {
   "codemirror_mode": {
    "name": "ipython",
    "version": 3
   },
   "file_extension": ".py",
   "mimetype": "text/x-python",
   "name": "python",
   "nbconvert_exporter": "python",
   "pygments_lexer": "ipython3",
   "version": "3.8.8"
  },
  "toc": {
   "base_numbering": 1,
   "nav_menu": {},
   "number_sections": true,
   "sideBar": true,
   "skip_h1_title": false,
   "title_cell": "Table of Contents",
   "title_sidebar": "Contents",
   "toc_cell": false,
   "toc_position": {},
   "toc_section_display": true,
   "toc_window_display": false
  }
 },
 "nbformat": 4,
 "nbformat_minor": 5
}
